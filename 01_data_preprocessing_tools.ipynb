{
  "nbformat": 4,
  "nbformat_minor": 0,
  "metadata": {
    "colab": {
      "name": "01.data_preprocessing_tools",
      "provenance": [],
      "mount_file_id": "https://github.com/kvneswar/machine-learning-a-z/blob/main/01_data_preprocessing_tools.ipynb",
      "authorship_tag": "ABX9TyOTGIJxC2+PAuMV+J+3NwOz",
      "include_colab_link": true
    },
    "kernelspec": {
      "name": "python3",
      "display_name": "Python 3"
    },
    "language_info": {
      "name": "python"
    }
  },
  "cells": [
    {
      "cell_type": "markdown",
      "metadata": {
        "id": "view-in-github",
        "colab_type": "text"
      },
      "source": [
        "<a href=\"https://colab.research.google.com/github/kvneswar/machine-learning-a-z/blob/main/01_data_preprocessing_tools.ipynb\" target=\"_parent\"><img src=\"https://colab.research.google.com/assets/colab-badge.svg\" alt=\"Open In Colab\"/></a>"
      ]
    },
    {
      "cell_type": "markdown",
      "metadata": {
        "id": "FPekQyby4bn-"
      },
      "source": [
        "# Data Preprocessing Tools\n"
      ]
    },
    {
      "cell_type": "markdown",
      "metadata": {
        "id": "lBs14hJc6Zfm"
      },
      "source": [
        "Importing the Libraries"
      ]
    },
    {
      "cell_type": "code",
      "metadata": {
        "id": "Gfm4VBES7B-o"
      },
      "source": [
        "import numpy as np\n",
        "import matplotlib.pyplot as plt\n",
        "import pandas as pd"
      ],
      "execution_count": 2,
      "outputs": []
    },
    {
      "cell_type": "markdown",
      "metadata": {
        "id": "w_0IkTvg6dwA"
      },
      "source": [
        "Importing the Dataset"
      ]
    },
    {
      "cell_type": "code",
      "metadata": {
        "colab": {
          "base_uri": "https://localhost:8080/"
        },
        "id": "F0-jPWDW73-Y",
        "outputId": "a65f3be2-4e7d-4d82-c58f-2ba467bfc968"
      },
      "source": [
        "dataset = pd.read_csv('/content/drive/MyDrive/Career/ML/MachineLearning A-Z/Machine Learning A-Z (Codes and Datasets)/Part 1 - Data Preprocessing/Section 2 -------------------- Part 1 - Data Preprocessing --------------------/Python/Data.csv')\n",
        "\n",
        "print('ORIGINAL DATASET:')\n",
        "print(dataset)\n",
        "\n",
        "print('x: ')\n",
        "\n",
        "x = dataset.iloc[:, :-1].values\n",
        "print (x)\n",
        "\n",
        "print('y: ')\n",
        "y = dataset.iloc[:, -1].values\n",
        "\n",
        "print (y)\n"
      ],
      "execution_count": 19,
      "outputs": [
        {
          "output_type": "stream",
          "name": "stdout",
          "text": [
            "ORIGINAL DATASET:\n",
            "   Country   Age   Salary Purchased\n",
            "0   France  44.0  72000.0        No\n",
            "1    Spain  27.0  48000.0       Yes\n",
            "2  Germany  30.0  54000.0        No\n",
            "3    Spain  38.0  61000.0        No\n",
            "4  Germany  40.0      NaN       Yes\n",
            "5   France  35.0  58000.0       Yes\n",
            "6    Spain   NaN  52000.0        No\n",
            "7   France  48.0  79000.0       Yes\n",
            "8  Germany  50.0  83000.0        No\n",
            "9   France  37.0  67000.0       Yes\n",
            "x: \n",
            "[['France' 44.0 72000.0]\n",
            " ['Spain' 27.0 48000.0]\n",
            " ['Germany' 30.0 54000.0]\n",
            " ['Spain' 38.0 61000.0]\n",
            " ['Germany' 40.0 nan]\n",
            " ['France' 35.0 58000.0]\n",
            " ['Spain' nan 52000.0]\n",
            " ['France' 48.0 79000.0]\n",
            " ['Germany' 50.0 83000.0]\n",
            " ['France' 37.0 67000.0]]\n",
            "y: \n",
            "['No' 'Yes' 'No' 'No' 'Yes' 'Yes' 'No' 'Yes' 'No' 'Yes']\n"
          ]
        }
      ]
    },
    {
      "cell_type": "markdown",
      "metadata": {
        "id": "1rwI6tAY6zcV"
      },
      "source": [
        "Taking care of missing data"
      ]
    },
    {
      "cell_type": "code",
      "metadata": {
        "id": "scrUP4WyMFsU",
        "outputId": "ee7aab9c-f6b5-4e6b-a334-d0a440cc245b",
        "colab": {
          "base_uri": "https://localhost:8080/"
        }
      },
      "source": [
        "#dataset['Age'] = dataset['Age'].fillna(round(np.mean(pd.to_numeric(dataset['Age'])), 2))\n",
        "#dataset['Salary'] = dataset['Salary'].fillna(round(np.mean(pd.to_numeric(dataset['Salary'])), 2))\n",
        "\n",
        "from sklearn.impute import SimpleImputer\n",
        "\n",
        "imputer = SimpleImputer(missing_values = np.nan, strategy = 'mean')\n",
        "\n",
        "imputer.fit(x[:, 1:3])\n",
        "\n",
        "x[:, 1:3] = imputer.transform(x[:, 1:3])\n",
        "\n",
        "print(x)"
      ],
      "execution_count": 25,
      "outputs": [
        {
          "output_type": "stream",
          "name": "stdout",
          "text": [
            "[['France' 44.0 72000.0]\n",
            " ['Spain' 27.0 48000.0]\n",
            " ['Germany' 30.0 54000.0]\n",
            " ['Spain' 38.0 61000.0]\n",
            " ['Germany' 40.0 63777.77777777778]\n",
            " ['France' 35.0 58000.0]\n",
            " ['Spain' 38.77777777777778 52000.0]\n",
            " ['France' 48.0 79000.0]\n",
            " ['Germany' 50.0 83000.0]\n",
            " ['France' 37.0 67000.0]]\n"
          ]
        }
      ]
    },
    {
      "cell_type": "markdown",
      "metadata": {
        "id": "c9s1tGwURu9_"
      },
      "source": [
        "Encoding Categorial Data"
      ]
    },
    {
      "cell_type": "markdown",
      "metadata": {
        "id": "cUPUdihKVGul"
      },
      "source": [
        "Encoding independent variable"
      ]
    },
    {
      "cell_type": "code",
      "metadata": {
        "id": "PyzjDbLNR0Pw",
        "outputId": "fe8b4d6e-f239-4bcd-f008-30eba22819b6",
        "colab": {
          "base_uri": "https://localhost:8080/"
        }
      },
      "source": [
        "from sklearn.compose import ColumnTransformer\n",
        "from sklearn.preprocessing import OneHotEncoder\n",
        "\n",
        "ct = ColumnTransformer(transformers = [('encoder', OneHotEncoder(), [0])], remainder = 'passthrough')\n",
        "\n",
        "x = np.array(ct.fit_transform(x))\n",
        "\n",
        "print(x)"
      ],
      "execution_count": null,
      "outputs": [
        {
          "output_type": "stream",
          "text": [
            "[[1.0 0.0 0.0 44.0 72000.0]\n",
            " [0.0 0.0 1.0 27.0 48000.0]\n",
            " [0.0 1.0 0.0 30.0 54000.0]\n",
            " [0.0 0.0 1.0 38.0 61000.0]\n",
            " [0.0 1.0 0.0 40.0 63777.77777777778]\n",
            " [1.0 0.0 0.0 35.0 58000.0]\n",
            " [0.0 0.0 1.0 38.77777777777778 52000.0]\n",
            " [1.0 0.0 0.0 48.0 79000.0]\n",
            " [0.0 1.0 0.0 50.0 83000.0]\n",
            " [1.0 0.0 0.0 37.0 67000.0]]\n"
          ],
          "name": "stdout"
        }
      ]
    },
    {
      "cell_type": "markdown",
      "metadata": {
        "id": "1OgYhhtIVAVf"
      },
      "source": [
        "Encoding dependent variable"
      ]
    },
    {
      "cell_type": "code",
      "metadata": {
        "id": "WacPhQJ5VJRA",
        "outputId": "ceb746d4-4230-4731-fb02-c3f376f092e5",
        "colab": {
          "base_uri": "https://localhost:8080/"
        }
      },
      "source": [
        "from sklearn.preprocessing import LabelEncoder\n",
        "\n",
        "le = LabelEncoder()\n",
        "\n",
        "y = le.fit_transform(y)\n",
        "\n",
        "print(y)"
      ],
      "execution_count": null,
      "outputs": [
        {
          "output_type": "stream",
          "text": [
            "[0 1 0 0 1 1 0 1 0 1]\n"
          ],
          "name": "stdout"
        }
      ]
    },
    {
      "cell_type": "markdown",
      "metadata": {
        "id": "l89elAn-XRAY"
      },
      "source": [
        "Splitting the dataset into Training set and Test set"
      ]
    },
    {
      "cell_type": "code",
      "metadata": {
        "id": "SNtDVNidXXJ-"
      },
      "source": [],
      "execution_count": null,
      "outputs": []
    }
  ]
}